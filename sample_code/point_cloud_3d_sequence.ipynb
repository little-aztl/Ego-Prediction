{
 "cells": [
  {
   "cell_type": "code",
   "execution_count": 4,
   "metadata": {},
   "outputs": [],
   "source": [
    "from projectaria_tools.core.stream_id import StreamId\n",
    "from projectaria_tools.core import calibration\n",
    "from projectaria_tools.projects.adt import (\n",
    "    AriaDigitalTwinDataProvider,\n",
    "    AriaDigitalTwinSkeletonProvider,\n",
    "    AriaDigitalTwinDataPathsProvider,\n",
    "    bbox3d_to_line_coordinates,\n",
    "    bbox2d_to_image_coordinates,\n",
    "    utils as adt_utils,\n",
    ")\n",
    "import numpy as np\n",
    "import torch.nn as nn\n",
    "from torch.utils.data import Dataset, DataLoader\n",
    "from tqdm import tqdm\n",
    "import torch\n",
    "import matplotlib.pyplot as plt\n",
    "import matplotlib.patches as patches"
   ]
  },
  {
   "cell_type": "code",
   "execution_count": 5,
   "metadata": {},
   "outputs": [],
   "source": [
    "path = \"../dataset/raw_dataset/Apartment_release_clean_seq131\""
   ]
  },
  {
   "cell_type": "code",
   "execution_count": 6,
   "metadata": {},
   "outputs": [
    {
     "name": "stdout",
     "output_type": "stream",
     "text": [
      "Loaded #closed loop trajectory poses records: 2880\n"
     ]
    },
    {
     "name": "stderr",
     "output_type": "stream",
     "text": [
      "\u001b[38;2;255;165;000m[AriaDigitalTwinDataPathsProvider][WARNING]: Sequence has version 1.1, but dataset versions 1.X are deprecated. We recommend you update your data by redownloading.\u001b[0m\n",
      "\u001b[0m\u001b[38;2;255;165;000m[AriaDigitalTwinDataPathsProvider][WARNING]: no segmentation image data found at ../dataset/raw_dataset/Apartment_release_clean_seq131/1WM103600M1292_optitrack_release_clean_seq131/segmentations.vrs\u001b[0m\n",
      "\u001b[0m\u001b[38;2;000;128;000m[MultiRecordFileReader][DEBUG]: Opened file '../dataset/raw_dataset/Apartment_release_clean_seq131/1WM103600M1292_optitrack_release_clean_seq131/video.vrs' and assigned to reader #0\u001b[0m\n",
      "\u001b[0m\u001b[38;2;000;000;255m[VrsDataProvider][INFO]: streamId 211-1/camera-et activated\u001b[0m\n",
      "\u001b[0m\u001b[38;2;000;000;255m[VrsDataProvider][INFO]: streamId 214-1/camera-rgb activated\u001b[0m\n",
      "\u001b[0m\u001b[38;2;000;000;255m[VrsDataProvider][INFO]: streamId 247-1/baro0 activated\u001b[0m\n",
      "\u001b[0m\u001b[38;2;255;165;000m[VrsDataProvider][WARNING]: Unsupported TimeSync mode: APP, ignoring.\u001b[0m\n",
      "\u001b[0m\u001b[38;2;000;000;255m[VrsDataProvider][INFO]: Timecode stream found: 285-2\u001b[0m\n",
      "\u001b[0m\u001b[38;2;000;000;255m[VrsDataProvider][INFO]: streamId 1201-1/camera-slam-left activated\u001b[0m\n",
      "\u001b[0m\u001b[38;2;000;000;255m[VrsDataProvider][INFO]: streamId 1201-2/camera-slam-right activated\u001b[0m\n",
      "\u001b[0m\u001b[38;2;000;000;255m[VrsDataProvider][INFO]: streamId 1202-1/imu-right activated\u001b[0m\n",
      "\u001b[0m\u001b[38;2;000;000;255m[VrsDataProvider][INFO]: streamId 1202-2/imu-left activated\u001b[0m\n",
      "\u001b[0m\u001b[38;2;000;000;255m[VrsDataProvider][INFO]: streamId 1203-1/mag0 activated\u001b[0m\n",
      "\u001b[0m\u001b[38;2;255;165;000m[AriaDigitalTwinDataProvider][WARNING]: dataset version read (1.1) is not up to date with latest (2.0), we recommend you redownload your ADT dataset. For a full version update history, please see the ADT wiki\u001b[0m\n",
      "\u001b[0m\u001b[38;2;000;000;255m[AriaDigitalTwinDataProvider][INFO]: loading instance info from json file ../dataset/raw_dataset/Apartment_release_clean_seq131/1WM103600M1292_optitrack_release_clean_seq131/instances.json\u001b[0m\n",
      "\u001b[0m\u001b[38;2;000;000;255m[AriaDigitalTwinDataProvider][INFO]: skip loading fileSegmentation because the data path is empty\u001b[0m\n",
      "\u001b[0m\u001b[38;2;000;128;000m[MultiRecordFileReader][DEBUG]: Opened file '../dataset/raw_dataset/Apartment_release_clean_seq131/1WM103600M1292_optitrack_release_clean_seq131/depth_images.vrs' and assigned to reader #0\u001b[0m\n",
      "\u001b[0m\u001b[38;2;255;165;000m[StreamIdLabelMapper][WARNING]: stream id 345-1 not found in Aria Device Model. You will not be able to get the label of this stream. \u001b[0m\n",
      "\u001b[0m\u001b[38;2;000;000;255m[VrsDataProvider][INFO]: streamId 345-1/NA activated\u001b[0m\n",
      "\u001b[0m\u001b[38;2;255;165;000m[StreamIdLabelMapper][WARNING]: stream id 345-2 not found in Aria Device Model. You will not be able to get the label of this stream. \u001b[0m\n",
      "\u001b[0m\u001b[38;2;000;000;255m[VrsDataProvider][INFO]: streamId 345-2/NA activated\u001b[0m\n",
      "\u001b[0m\u001b[38;2;255;165;000m[StreamIdLabelMapper][WARNING]: stream id 345-3 not found in Aria Device Model. You will not be able to get the label of this stream. \u001b[0m\n",
      "\u001b[0m\u001b[38;2;000;000;255m[VrsDataProvider][INFO]: streamId 345-3/NA activated\u001b[0m\n",
      "\u001b[0m\u001b[38;2;255;165;000m[VrsDataProvider][WARNING]: VRS file does not contain calib_json field in VRS tags.\u001b[0m\n",
      "\u001b[0m\u001b[38;2;255;000;000m[RecordReaderInterface][ERROR]: Tag 'metadata' was not found in the VRS file tags\u001b[0m\n",
      "\u001b[0m\u001b[38;2;000;128;000m[RecordFileReader][DEBUG]: Reading TagsRecord for RGB Camera Class #1\u001b[0m\n",
      "\u001b[0m\u001b[38;2;000;128;000m[TagsRecord][DEBUG]: Read 7 VRS tags and 5 user tags for RGB Camera Class #1\u001b[0m\n",
      "\u001b[0m\u001b[38;2;000;128;000m[RecordFileReader][DEBUG]: Reading TagsRecord for Camera Data (SLAM) #1\u001b[0m\n",
      "\u001b[0m\u001b[38;2;000;128;000m[TagsRecord][DEBUG]: Read 7 VRS tags and 5 user tags for Camera Data (SLAM) #1\u001b[0m\n",
      "\u001b[0m\u001b[38;2;000;128;000m[RecordFileReader][DEBUG]: Reading TagsRecord for Camera Data (SLAM) #2\u001b[0m\n",
      "\u001b[0m\u001b[38;2;000;128;000m[TagsRecord][DEBUG]: Read 7 VRS tags and 5 user tags for Camera Data (SLAM) #2\u001b[0m\n",
      "\u001b[0m\u001b[38;2;000;128;000m[RecordFileReader][DEBUG]: Reading TagsRecord for IMU Data (SLAM) #1\u001b[0m\n",
      "\u001b[0m\u001b[38;2;000;128;000m[TagsRecord][DEBUG]: Read 7 VRS tags and 5 user tags for IMU Data (SLAM) #1\u001b[0m\n",
      "\u001b[0m\u001b[38;2;000;128;000m[RecordFileReader][DEBUG]: Deleted 4 TagsRecords from the index.\u001b[0m\n",
      "\u001b[0m\u001b[38;2;000;128;000m[MultiRecordFileRead"
     ]
    },
    {
     "name": "stdout",
     "output_type": "stream",
     "text": [
      "Loaded #EyeGazes: 3526\n"
     ]
    },
    {
     "name": "stderr",
     "output_type": "stream",
     "text": [
      "er][DEBUG]: Opened file '../dataset/raw_dataset/Apartment_release_clean_seq131/1WM103600M1292_optitrack_release_clean_seq131/synthetic_video.vrs' and assigned to reader #0\u001b[0m\n",
      "\u001b[0m\u001b[38;2;000;000;255m[VrsDataProvider][INFO]: streamId 214-1/camera-rgb activated\u001b[0m\n",
      "\u001b[0m\u001b[38;2;000;000;255m[VrsDataProvider][INFO]: streamId 1201-1/camera-slam-left activated\u001b[0m\n",
      "\u001b[0m\u001b[38;2;000;000;255m[VrsDataProvider][INFO]: streamId 1201-2/camera-slam-right activated\u001b[0m\n",
      "\u001b[0m\u001b[38;2;000;000;255m[VrsDataProvider][INFO]: streamId 1202-1/imu-right activated\u001b[0m\n",
      "\u001b[0m\u001b[38;2;255;165;000m[DeviceCadExtrinsics][WARNING]: No CAD available for simulated device\u001b[0m\n",
      "\u001b[0m\u001b[38;2;255;000;000m[RecordReaderInterface][ERROR]: Tag 'metadata' was not found in the VRS file tags\u001b[0m\n",
      "\u001b[0m\u001b[38;2;000;000;255m[AriaDigitalTwinDataProvider][INFO]: skip loading skeletonMetaDataFilePath because the data path is empty\u001b[0m\n",
      "\u001b[0m\u001b[38;2;000;000;255m[AriaDigitalTwinDataProvider][INFO]: skip loading skeletonsFilePaths because the data path is empty\u001b[0m\n",
      "\u001b[0mFailed to parse eye gaze vergence file: Extra column \"yaw_rads_cpf\" in header of file \"../dataset/raw_dataset/Apartment_release_clean_seq131/1WM103600M1292_optitrack_release_clean_seq131/eyegaze.csv\".\n"
     ]
    }
   ],
   "source": [
    "path_provider = AriaDigitalTwinDataPathsProvider(path)\n",
    "data_paths = path_provider.get_datapaths_by_device_num(0)\n",
    "dt_provider = AriaDigitalTwinDataProvider(data_paths)\n",
    "stream = StreamId('214-1')"
   ]
  },
  {
   "cell_type": "code",
   "execution_count": 7,
   "metadata": {},
   "outputs": [],
   "source": [
    "LENGTH_OF_SEQUENCE = 300\n",
    "STRIDE = 3\n",
    "SKIP_N_PIXELS = 10"
   ]
  },
  {
   "cell_type": "code",
   "execution_count": 8,
   "metadata": {},
   "outputs": [],
   "source": [
    "timestamps = dt_provider.get_aria_device_capture_timestamps_ns(stream)\n",
    "l = len(timestamps) // 2\n",
    "r = l + LENGTH_OF_SEQUENCE\n",
    "timestamps = timestamps[l:r:STRIDE]\n",
    "cam_calib = dt_provider.get_aria_camera_calibration(stream)"
   ]
  },
  {
   "cell_type": "code",
   "execution_count": 9,
   "metadata": {},
   "outputs": [],
   "source": [
    "def get_point_cloud(timestamp):\n",
    "    counter = 0\n",
    "    aria_3d_pose = dt_provider.get_aria_3d_pose_by_timestamp_ns(timestamp).data()\n",
    "    scene_cam_matrix = aria_3d_pose.transform_scene_device @ cam_calib.get_transform_device_camera()\n",
    "\n",
    "    depth_image = dt_provider.get_depth_image_by_timestamp_ns(timestamp, stream).data().to_numpy_array()\n",
    "    RGB_image = dt_provider.get_aria_image_by_timestamp_ns(timestamp, stream).data().to_numpy_array()\n",
    "    synthetic_RGB_image = dt_provider.get_synthetic_image_by_timestamp_ns(timestamp, stream).data().to_numpy_array()\n",
    "\n",
    "    img_points_in_scene = []\n",
    "    img_cols = []\n",
    "    synthetic_cols = []\n",
    "\n",
    "    for u in range(RGB_image.shape[1]):\n",
    "        for v in range(RGB_image.shape[0]):\n",
    "            counter += 1\n",
    "            if counter % SKIP_N_PIXELS != 0:\n",
    "                continue\n",
    "\n",
    "            ray = cam_calib.unproject([u, v])\n",
    "            if ray is None:\n",
    "                continue\n",
    "\n",
    "            d = depth_image[v, u] / 1000\n",
    "            p_in_cam = d * ray\n",
    "            p_in_scene = scene_cam_matrix @ p_in_cam\n",
    "\n",
    "            img_points_in_scene.append(p_in_scene)\n",
    "            img_cols.append(RGB_image[v, u] / 256)\n",
    "            synthetic_cols.append(synthetic_RGB_image[v, u] / 256)\n",
    "\n",
    "    return img_points_in_scene, img_cols, synthetic_cols"
   ]
  },
  {
   "cell_type": "code",
   "execution_count": 10,
   "metadata": {},
   "outputs": [
    {
     "name": "stderr",
     "output_type": "stream",
     "text": [
      "100%|████████████████████████████████████████████████████████████████████| 100/100 [07:30<00:00,  4.50s/it]\n"
     ]
    }
   ],
   "source": [
    "points = []\n",
    "colors = []\n",
    "synthetic_colors = []\n",
    "for i in tqdm(range(len(timestamps))):\n",
    "    tmp_p, tmp_c, tmp_s_c = get_point_cloud(timestamps[i])\n",
    "    points.append(tmp_p)\n",
    "    colors.append(tmp_c)\n",
    "    synthetic_colors.append(tmp_s_c)\n",
    "\n",
    "points = np.array(points)\n"
   ]
  },
  {
   "cell_type": "code",
   "execution_count": 11,
   "metadata": {},
   "outputs": [],
   "source": [
    "points[:, :, [0, 1, 2]] = points[:, :, [2, 0, 1]]"
   ]
  },
  {
   "cell_type": "code",
   "execution_count": null,
   "metadata": {},
   "outputs": [],
   "source": [
    "import rerun as rr \n",
    "from rerun.datatypes import Angle, RotationAxisAngle\n",
    "from math import pi\n",
    "rr.init(\"point_cloud_sequence_visualization\")\n",
    "# rr.serve()\n",
    "\n",
    "rr.set_time_seconds(\"stable_time\", 0)\n",
    "arrows = rr.Arrows3D(origins=[[0, 0, 0], [0, 0, 0], [0, 0, 0]], vectors=[[1, 0, 0], [0, 1, 0], [0, 0, 1]], labels=[\"X\", \"Y\", \"Z\"])\n",
    "rr.log(\"real/arrow\", arrows)\n",
    "rr.log(\"synthetic/arrow\", arrows)"
   ]
  },
  {
   "cell_type": "code",
   "execution_count": 14,
   "metadata": {},
   "outputs": [
    {
     "name": "stderr",
     "output_type": "stream",
     "text": [
      "[2024-08-02T10:33:11Z INFO  re_sdk::web_viewer] Sleeping a short while to give the browser time to connect…\n",
      "[2024-08-02T10:33:12Z INFO  re_sdk::web_viewer] Shutting down without any clients ever having connected. Consider sleeping to give them more time to connect\n",
      "[2024-08-02T10:33:12Z INFO  re_ws_comms::server] Shutting down Rerun server on ws://localhost:9877 after serving 0 client(s)\n",
      "[2024-08-02T10:34:52Z INFO  re_ws_comms::server] Hosting a WebSocket server on ws://localhost:9877. You can connect to this with a native viewer (`rerun ws://localhost:9877`) or the web viewer (with `?url=ws://localhost:9877`).\n",
      "[2024-08-02T10:34:52Z INFO  re_sdk::web_viewer] Hosting a web-viewer at http://localhost:9090?url=ws://localhost:9877\n",
      "100%|████████████████████████████████████████████████████████████████████| 100/100 [00:23<00:00,  4.33it/s]\n"
     ]
    }
   ],
   "source": [
    "for i in tqdm(range(len(timestamps))):\n",
    "    time = (timestamps[i] - timestamps[0]) / 1e9\n",
    "    rr.set_time_seconds(\"stable_time\", time)\n",
    "\n",
    "    rr.log(\n",
    "        \"3D/real_point_cloud\",\n",
    "        rr.Points3D(points[i], colors=colors[i])\n",
    "    )\n",
    "\n",
    "    rr.log(\n",
    "        \"3D/synthetic_point_cloud\",\n",
    "        rr.Points3D(points[i], colors=synthetic_colors[i])\n",
    "    )\n",
    "\n",
    "    RGB_image = dt_provider.get_aria_image_by_timestamp_ns(timestamps[i], stream).data().to_numpy_array()\n",
    "    RGB_image = RGB_image.transpose([1, 0, 2])\n",
    "    rr.log(\n",
    "        \"2D/RGB_image\",\n",
    "        rr.Image(data=RGB_image)\n",
    "    )\n",
    "\n",
    "    synthetic_image = dt_provider.get_synthetic_image_by_timestamp_ns(timestamps[i], stream).data().to_numpy_array()\n",
    "    synthetic_image = synthetic_image.tranpose([1, 0, 2])\n",
    "    rr.log(\n",
    "        \"2D/"
   ]
  },
  {
   "cell_type": "code",
   "execution_count": null,
   "metadata": {},
   "outputs": [],
   "source": [
    "rr.save()"
   ]
  }
 ],
 "metadata": {
  "kernelspec": {
   "display_name": "Python 3 (ipykernel)",
   "language": "python",
   "name": "python3"
  },
  "language_info": {
   "codemirror_mode": {
    "name": "ipython",
    "version": 3
   },
   "file_extension": ".py",
   "mimetype": "text/x-python",
   "name": "python",
   "nbconvert_exporter": "python",
   "pygments_lexer": "ipython3",
   "version": "3.11.9"
  }
 },
 "nbformat": 4,
 "nbformat_minor": 4
}
