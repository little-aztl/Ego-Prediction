{
 "cells": [
  {
   "cell_type": "code",
   "execution_count": 38,
   "metadata": {},
   "outputs": [],
   "source": [
    "import h5py\n",
    "data = h5py.File('../dataset/data.h5py', 'r')"
   ]
  },
  {
   "cell_type": "code",
   "execution_count": 39,
   "metadata": {},
   "outputs": [
    {
     "data": {
      "text/plain": [
       "<KeysViewHDF5 ['Apartment_release_clean_seq131', 'Apartment_release_clean_seq133', 'Apartment_release_clean_seq134', 'Apartment_release_clean_seq135', 'Apartment_release_clean_seq136', 'Apartment_release_clean_seq138', 'Apartment_release_clean_seq140', 'Apartment_release_clean_seq141', 'Apartment_release_clean_seq148', 'Apartment_release_clean_seq149', 'Apartment_release_clean_seq150', 'Apartment_release_decoration_seq131', 'Apartment_release_decoration_seq132', 'Apartment_release_decoration_seq133', 'Apartment_release_decoration_seq134', 'Apartment_release_decoration_seq135', 'Apartment_release_decoration_seq136', 'Apartment_release_decoration_seq137', 'Apartment_release_decoration_seq138', 'Apartment_release_decoration_seq139', 'Apartment_release_decoration_seq140', 'Apartment_release_decoration_skeleton_seq131', 'Apartment_release_decoration_skeleton_seq132', 'Apartment_release_decoration_skeleton_seq133', 'Apartment_release_decoration_skeleton_seq134', 'Apartment_release_decoration_skeleton_seq135', 'Apartment_release_decoration_skeleton_seq136', 'Apartment_release_decoration_skeleton_seq137', 'Apartment_release_decoration_skeleton_seq138', 'Apartment_release_decoration_skeleton_seq139', 'Apartment_release_decoration_skeleton_seq140', 'Apartment_release_golden_skeleton_seq100', 'Apartment_release_golden_skeleton_seq100_10s_sample', 'Apartment_release_meal_seq131', 'Apartment_release_meal_seq132', 'Apartment_release_meal_seq133', 'Apartment_release_meal_seq136', 'Apartment_release_meal_seq138', 'Apartment_release_meal_seq139', 'Apartment_release_meal_seq140', 'Apartment_release_meal_seq141', 'Apartment_release_meal_seq142', 'Apartment_release_meal_seq143', 'Apartment_release_meal_seq144', 'Apartment_release_meal_seq145', 'Apartment_release_meal_seq146', 'Apartment_release_meal_seq147', 'Apartment_release_meal_seq149', 'Apartment_release_meal_seq150', 'Apartment_release_meal_skeleton_seq131', 'Apartment_release_meal_skeleton_seq132', 'Apartment_release_meal_skeleton_seq133', 'Apartment_release_meal_skeleton_seq134', 'Apartment_release_meal_skeleton_seq135', 'Apartment_release_meal_skeleton_seq136', 'Apartment_release_meal_skeleton_seq137', 'Apartment_release_meal_skeleton_seq139', 'Apartment_release_meal_skeleton_seq140', 'Apartment_release_multiskeleton_party_seq101', 'Apartment_release_multiskeleton_party_seq102', 'Apartment_release_multiskeleton_party_seq103', 'Apartment_release_multiskeleton_party_seq104', 'Apartment_release_multiskeleton_party_seq106', 'Apartment_release_multiskeleton_party_seq107', 'Apartment_release_multiskeleton_party_seq108', 'Apartment_release_multiskeleton_party_seq114', 'Apartment_release_multiskeleton_party_seq115', 'Apartment_release_multiskeleton_party_seq116', 'Apartment_release_multiskeleton_party_seq117', 'Apartment_release_multiskeleton_party_seq119', 'Apartment_release_multiskeleton_party_seq121', 'Apartment_release_multiskeleton_party_seq122', 'Apartment_release_multiskeleton_party_seq123', 'Apartment_release_multiskeleton_party_seq125', 'Apartment_release_multiskeleton_party_seq126', 'Apartment_release_multiskeleton_party_seq127', 'Apartment_release_multiuser_clean_seq111', 'Apartment_release_multiuser_clean_seq112', 'Apartment_release_multiuser_clean_seq113', 'Apartment_release_multiuser_clean_seq114', 'Apartment_release_multiuser_clean_seq116', 'Apartment_release_multiuser_clean_seq117', 'Apartment_release_multiuser_clean_seq118', 'Apartment_release_multiuser_clean_seq119', 'Apartment_release_multiuser_clean_seq120', 'Apartment_release_multiuser_cook_seq111', 'Apartment_release_multiuser_cook_seq112', 'Apartment_release_multiuser_cook_seq113', 'Apartment_release_multiuser_cook_seq114', 'Apartment_release_multiuser_cook_seq115', 'Apartment_release_multiuser_cook_seq116', 'Apartment_release_multiuser_cook_seq117', 'Apartment_release_multiuser_cook_seq118', 'Apartment_release_multiuser_cook_seq119', 'Apartment_release_multiuser_cook_seq120', 'Apartment_release_multiuser_cook_seq141', 'Apartment_release_multiuser_cook_seq142', 'Apartment_release_multiuser_cook_seq143', 'Apartment_release_multiuser_cook_seq144', 'Apartment_release_multiuser_cook_seq145', 'Apartment_release_multiuser_cook_seq146', 'Apartment_release_multiuser_cook_seq147', 'Apartment_release_multiuser_cook_seq148', 'Apartment_release_multiuser_cook_seq149', 'Apartment_release_multiuser_cook_seq150', 'Apartment_release_multiuser_meal_seq131', 'Apartment_release_multiuser_meal_seq132', 'Apartment_release_multiuser_meal_seq133', 'Apartment_release_multiuser_meal_seq134', 'Apartment_release_multiuser_meal_seq135', 'Apartment_release_multiuser_meal_seq136', 'Apartment_release_multiuser_meal_seq137', 'Apartment_release_multiuser_meal_seq138', 'Apartment_release_multiuser_meal_seq139', 'Apartment_release_multiuser_meal_seq140', 'Apartment_release_multiuser_party_seq131', 'Apartment_release_multiuser_party_seq132', 'Apartment_release_multiuser_party_seq133', 'Apartment_release_multiuser_party_seq134', 'Apartment_release_multiuser_party_seq135', 'Apartment_release_multiuser_party_seq137', 'Apartment_release_multiuser_party_seq138', 'Apartment_release_multiuser_party_seq139', 'Apartment_release_multiuser_party_seq140', 'Apartment_release_multiuser_party_seq141', 'Apartment_release_multiuser_party_seq142', 'Apartment_release_multiuser_party_seq143', 'Apartment_release_multiuser_party_seq146', 'Apartment_release_multiuser_party_seq147', 'Apartment_release_multiuser_party_seq149', 'Apartment_release_multiuser_party_seq150', 'Apartment_release_recognition_seq133', 'Apartment_release_recognition_seq136', 'Apartment_release_recognition_seq138', 'Apartment_release_recognition_seq140', 'Apartment_release_work_seq106', 'Apartment_release_work_seq107', 'Apartment_release_work_seq108', 'Apartment_release_work_seq109', 'Apartment_release_work_seq110', 'Apartment_release_work_seq136', 'Apartment_release_work_seq138', 'Apartment_release_work_seq139', 'Apartment_release_work_seq140', 'Apartment_release_work_skeleton_seq106', 'Apartment_release_work_skeleton_seq107', 'Apartment_release_work_skeleton_seq108', 'Apartment_release_work_skeleton_seq109', 'Apartment_release_work_skeleton_seq110', 'Apartment_release_work_skeleton_seq131', 'Apartment_release_work_skeleton_seq132', 'Apartment_release_work_skeleton_seq133', 'Apartment_release_work_skeleton_seq134', 'Apartment_release_work_skeleton_seq135', 'Apartment_release_work_skeleton_seq136', 'Apartment_release_work_skeleton_seq137', 'Apartment_release_work_skeleton_seq138', 'Apartment_release_work_skeleton_seq139', 'Apartment_release_work_skeleton_seq140', 'Lite_release_recognition_BambooPlate_seq030', 'Lite_release_recognition_BambooPlate_seq031', 'Lite_release_recognition_BambooPlate_seq032', 'Lite_release_recognition_BirdHouseToy_seq030', 'Lite_release_recognition_BirdHouseToy_seq031', 'Lite_release_recognition_BirdHouseToy_seq032', 'Lite_release_recognition_BirdHouseToy_seq033', 'Lite_release_recognition_BlackCeramicBowl_seq030', 'Lite_release_recognition_BlackCeramicBowl_seq031', 'Lite_release_recognition_BlackCeramicBowl_seq032', 'Lite_release_recognition_BlackCeramicBowl_seq033', 'Lite_release_recognition_BlackCeramicDishSmall_seq031', 'Lite_release_recognition_BlackCeramicDishSmall_seq032', 'Lite_release_recognition_BlackCeramicDishSmall_seq034', 'Lite_release_recognition_BlackCeramicMug_seq031', 'Lite_release_recognition_BlackCeramicMug_seq032', 'Lite_release_recognition_BookDeepLearning_seq031', 'Lite_release_recognition_BookDeepLearning_seq032', 'Lite_release_recognition_ChoppingBoard_seq031', 'Lite_release_recognition_ChoppingBoard_seq033', 'Lite_release_recognition_DinoToy_seq030', 'Lite_release_recognition_DinoToy_seq031', 'Lite_release_recognition_DinoToy_seq032', 'Lite_release_recognition_DinoToy_seq033', 'Lite_release_recognition_Flask_seq030', 'Lite_release_recognition_Flask_seq031', 'Lite_release_recognition_Flask_seq032', 'Lite_release_recognition_Flask_seq033', 'Lite_release_recognition_GreenDecorationTall_seq030', 'Lite_release_recognition_GreenDecorationTall_seq031', 'Lite_release_recognition_GreenDecorationTall_seq032', 'Lite_release_recognition_GreenDecorationTall_seq033', 'Lite_release_recognition_Mug_2_seq030', 'Lite_release_recognition_Mug_2_seq031', 'Lite_release_recognition_Mug_2_seq032', 'Lite_release_recognition_RedClock_seq030', 'Lite_release_recognition_RedClock_seq031', 'Lite_release_recognition_RedClock_seq032', 'Lite_release_recognition_RedClock_seq033', 'Lite_release_recognition_WoodenBowl_seq032', 'Lite_release_recognition_WoodenBoxSmall_seq030', 'Lite_release_recognition_WoodenBoxSmall_seq031', 'Lite_release_recognition_WoodenBoxSmall_seq032', 'Lite_release_recognition_WoodenBoxSmall_seq033', 'Lite_release_recognition_WoodenFork_seq031', 'Lite_release_recognition_WoodenFork_seq032', 'Lite_release_recognition_WoodenSpoon_seq033', 'Lite_release_recognition_WoodenSpoon_seq034', 'Lite_release_recognition_WoodenSpoon_seq035']>"
      ]
     },
     "execution_count": 39,
     "metadata": {},
     "output_type": "execute_result"
    }
   ],
   "source": [
    "data.keys()"
   ]
  },
  {
   "cell_type": "code",
   "execution_count": 40,
   "metadata": {},
   "outputs": [],
   "source": [
    "seq = data['Apartment_release_clean_seq131']['0']"
   ]
  },
  {
   "cell_type": "code",
   "execution_count": 41,
   "metadata": {},
   "outputs": [
    {
     "data": {
      "text/plain": [
       "dtype('<f4')"
      ]
     },
     "execution_count": 41,
     "metadata": {},
     "output_type": "execute_result"
    }
   ],
   "source": [
    "seq['cam_scene_matrix'].dtype"
   ]
  },
  {
   "cell_type": "code",
   "execution_count": 42,
   "metadata": {},
   "outputs": [
    {
     "data": {
      "text/plain": [
       "(3527, 4, 4)"
      ]
     },
     "execution_count": 42,
     "metadata": {},
     "output_type": "execute_result"
    }
   ],
   "source": [
    "matrices = seq['cam_scene_matrix']\n",
    "matrices.shape"
   ]
  },
  {
   "cell_type": "code",
   "execution_count": 43,
   "metadata": {},
   "outputs": [],
   "source": [
    "matrix = matrices[0]"
   ]
  },
  {
   "cell_type": "code",
   "execution_count": 45,
   "metadata": {},
   "outputs": [],
   "source": [
    "import numpy as np\n",
    "from scipy.spatial.transform import Rotation as R\n",
    "\n",
    "rotation = R.from_matrix(matrix[:3, :3])\n",
    "quat = rotation.as_quat()"
   ]
  },
  {
   "cell_type": "code",
   "execution_count": 47,
   "metadata": {},
   "outputs": [
    {
     "name": "stdout",
     "output_type": "stream",
     "text": [
      "[ 0.76256286  0.13924116 -0.60031563 -0.19680173]\n"
     ]
    }
   ],
   "source": [
    "print(quat)"
   ]
  }
 ],
 "metadata": {
  "kernelspec": {
   "display_name": "zzm_ego_prediction",
   "language": "python",
   "name": "python3"
  },
  "language_info": {
   "codemirror_mode": {
    "name": "ipython",
    "version": 3
   },
   "file_extension": ".py",
   "mimetype": "text/x-python",
   "name": "python",
   "nbconvert_exporter": "python",
   "pygments_lexer": "ipython3",
   "version": "3.11.9"
  }
 },
 "nbformat": 4,
 "nbformat_minor": 2
}
